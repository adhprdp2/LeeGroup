{
 "cells": [
  {
   "cell_type": "code",
   "execution_count": 8,
   "metadata": {},
   "outputs": [
    {
     "data": {
      "text/plain": [
       "('TCPIP0::192.168.3.20::h::INSTR', 'GPIB1::8::INSTR')"
      ]
     },
     "execution_count": 8,
     "metadata": {},
     "output_type": "execute_result"
    }
   ],
   "source": [
    "import pyvisa\n",
    "from keithley2400 import keithley2400\n",
    "from sr830 import sr830\n",
    "from sr850 import sr850\n",
    "\n",
    "\n",
    "rm = pyvisa.ResourceManager()\n",
    "rm.list_resources()"
   ]
  },
  {
   "cell_type": "code",
   "execution_count": 14,
   "metadata": {},
   "outputs": [
    {
     "name": "stdout",
     "output_type": "stream",
     "text": [
      "Stanford_Research_Systems,SR850,s/n87465,ver1.09 \n"
     ]
    }
   ],
   "source": [
    "rsc_name = f\"GPIB1::8::INSTR\"\n",
    "rm = pyvisa.ResourceManager()\n",
    "instr = rm.open_resource(rsc_name, read_termination='\\n')\n",
    "instr.write_termination = '\\n'\n",
    "id = instr.query(\"*IDN? \", delay=1)\n",
    "print(id)"
   ]
  },
  {
   "cell_type": "code",
   "execution_count": 2,
   "metadata": {},
   "outputs": [
    {
     "name": "stdout",
     "output_type": "stream",
     "text": [
      "Stanford_Research_Systems,SR830,s/n91810,ver1.07 \n",
      "\n"
     ]
    }
   ],
   "source": [
    "smu = sr850()\n",
    "print(smu._id())"
   ]
  }
 ],
 "metadata": {
  "kernelspec": {
   "display_name": ".venv",
   "language": "python",
   "name": "python3"
  },
  "language_info": {
   "codemirror_mode": {
    "name": "ipython",
    "version": 3
   },
   "file_extension": ".py",
   "mimetype": "text/x-python",
   "name": "python",
   "nbconvert_exporter": "python",
   "pygments_lexer": "ipython3",
   "version": "3.11.6"
  }
 },
 "nbformat": 4,
 "nbformat_minor": 2
}
